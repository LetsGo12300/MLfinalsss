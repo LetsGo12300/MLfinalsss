{
 "cells": [
  {
   "cell_type": "markdown",
   "metadata": {},
   "source": [
    "## Simulation of Diabetes Dataset Using Support Vector Machine with Selected Features"
   ]
  },
  {
   "cell_type": "markdown",
   "metadata": {},
   "source": [
    "TO CHECK THE VERSION OF LIBRARIES"
   ]
  },
  {
   "cell_type": "code",
   "execution_count": null,
   "metadata": {},
   "outputs": [],
   "source": [
    "import sys\n",
    "print('Python: {}'.format(sys.version))\n",
    "# scipy\n",
    "import scipy\n",
    "print('scipy: {}'.format(scipy.__version__))\n",
    "# numpy\n",
    "import numpy\n",
    "print('numpy: {}'.format(numpy.__version__))\n",
    "# matplotlib\n",
    "import matplotlib\n",
    "print('matplotlib: {}'.format(matplotlib.__version__))\n",
    "# pandas\n",
    "import pandas\n",
    "print('pandas: {}'.format(pandas.__version__))\n",
    "# scikit-learn\n",
    "import sklearn\n",
    "print('sklearn: {}'.format(sklearn.__version__))"
   ]
  },
  {
   "cell_type": "markdown",
   "metadata": {},
   "source": [
    "TO IMPORT LIBRARIES"
   ]
  },
  {
   "cell_type": "code",
   "execution_count": null,
   "metadata": {},
   "outputs": [],
   "source": [
    "import numpy as np\n",
    "import matplotlib.pyplot as plot\n",
    "import pandas as pd\n",
    "\n",
    "# To allow plots to appear within the notebook\n",
    "%matplotlib inline"
   ]
  },
  {
   "cell_type": "markdown",
   "metadata": {},
   "source": [
    "TO LOAD THE DATASET"
   ]
  },
  {
   "cell_type": "code",
   "execution_count": null,
   "metadata": {},
   "outputs": [],
   "source": [
    "dataset = pandas.read_csv('diabetes.csv')"
   ]
  },
  {
   "cell_type": "markdown",
   "metadata": {},
   "source": [
    "TO DETERMINE THE DIMENSIONS OF THE DATASET"
   ]
  },
  {
   "cell_type": "code",
   "execution_count": null,
   "metadata": {},
   "outputs": [],
   "source": [
    "print(dataset.shape)"
   ]
  },
  {
   "cell_type": "markdown",
   "metadata": {},
   "source": [
    "TO PEEK AT THE DATA"
   ]
  },
  {
   "cell_type": "code",
   "execution_count": null,
   "metadata": {},
   "outputs": [],
   "source": [
    "print(dataset.head(5))"
   ]
  },
  {
   "cell_type": "markdown",
   "metadata": {},
   "source": [
    "TO SEE THE STATISTICAL SUMMARY"
   ]
  },
  {
   "cell_type": "code",
   "execution_count": null,
   "metadata": {},
   "outputs": [],
   "source": [
    "print(dataset.describe())"
   ]
  },
  {
   "cell_type": "markdown",
   "metadata": {},
   "source": [
    "TO SEE THE CLASS DISTRIBUTION"
   ]
  },
  {
   "cell_type": "code",
   "execution_count": null,
   "metadata": {},
   "outputs": [],
   "source": [
    "print(dataset.groupby('Outcome').size())"
   ]
  },
  {
   "cell_type": "markdown",
   "metadata": {},
   "source": [
    "TO SHOW THE UNIVARIATE PLOT (BOX and WHISKER PLOTS)"
   ]
  },
  {
   "cell_type": "code",
   "execution_count": null,
   "metadata": {},
   "outputs": [],
   "source": [
    "dataset.plot(kind='box', subplots=True, layout=(3,3), sharex=False, sharey=False)\n",
    "plot.show()"
   ]
  },
  {
   "cell_type": "markdown",
   "metadata": {},
   "source": [
    "TO SHOW THE HISTOGRAM FOR THE DISTRIBUTION"
   ]
  },
  {
   "cell_type": "code",
   "execution_count": null,
   "metadata": {},
   "outputs": [],
   "source": [
    "dataset.hist()\n",
    "plot.show()"
   ]
  },
  {
   "cell_type": "markdown",
   "metadata": {},
   "source": [
    "FOR THE MULTIVARIATE PLOT"
   ]
  },
  {
   "cell_type": "code",
   "execution_count": null,
   "metadata": {},
   "outputs": [],
   "source": [
    "# For the Scatter Plot Matrix\n",
    "from pandas.plotting import scatter_matrix\n",
    "scatter_matrix(dataset)\n",
    "plot.show()"
   ]
  },
  {
   "cell_type": "markdown",
   "metadata": {},
   "source": [
    "## To Create Support Vector Machine Models with Identified Features to be Used"
   ]
  },
  {
   "cell_type": "markdown",
   "metadata": {},
   "source": [
    "### A. Using Univariate Selection"
   ]
  },
  {
   "cell_type": "markdown",
   "metadata": {},
   "source": [
    "Based from the Univariate Selection, the four identified features that have the strongest relationship with the output variable are the following:\n",
    "1. Glucose\n",
    "2. Insulin\n",
    "3. BMI and\n",
    "4. Age"
   ]
  },
  {
   "cell_type": "code",
   "execution_count": null,
   "metadata": {},
   "outputs": [],
   "source": [
    "# To Create the Matrix of Independent Variable, X, that contains Glucose, Insulin, BMI and Age\n",
    "features = ['Glucose', 'Insulin', 'BMI', 'Age']\n",
    "X_uni = dataset[features].values"
   ]
  },
  {
   "cell_type": "code",
   "execution_count": null,
   "metadata": {},
   "outputs": [],
   "source": [
    "# To Create the Matrix of Independent Variable, Y, that contains the Outcomes\n",
    "Y_uni = dataset.iloc[:,8].values"
   ]
  },
  {
   "cell_type": "code",
   "execution_count": null,
   "metadata": {},
   "outputs": [],
   "source": [
    "# To Import the Support Vector Machine Model\n",
    "from sklearn.svm import SVC\n",
    "\n",
    "# To Instantiate the Model (Using Majority of Default Parameters)\n",
    "support_vector_machine = SVC(kernel = 'linear', random_state = 0)"
   ]
  },
  {
   "cell_type": "code",
   "execution_count": null,
   "metadata": {},
   "outputs": [],
   "source": [
    "# To Apply K-fold Cross Validation for the Support Vector Machine Model Performance\n",
    "from sklearn.model_selection import KFold\n",
    "k_Fold = KFold(n_splits=10, shuffle=False, random_state=None)\n",
    "\n",
    "from sklearn.model_selection import cross_val_score\n",
    "accuracies = cross_val_score(estimator=support_vector_machine, X=X_uni, y=Y_uni, cv=k_Fold, scoring='accuracy')\n",
    "accuracies_average = accuracies.mean()\n",
    "accuracies_variance = accuracies.std()\n",
    "print(\"ACCURACIES IN K-FOLDS:\")\n",
    "print(accuracies)\n",
    "print('')\n",
    "print(\"AVERAGE ACCURACY OF K-FOLDS:\")\n",
    "print(accuracies_average)\n",
    "print('')\n",
    "print(\"ACCURACY VARIANCE OF K-FOLDS:\")\n",
    "print(accuracies_variance)\n",
    "print('')"
   ]
  },
  {
   "cell_type": "code",
   "execution_count": null,
   "metadata": {},
   "outputs": [],
   "source": [
    "# To Split the Dataset into Training Dataset and Testing Dataset\n",
    "from sklearn.model_selection import train_test_split\n",
    "X_uni_train, X_uni_test, Y_uni_train, Y_uni_test = train_test_split(X_uni, Y_uni, test_size = 0.20, random_state = 0)\n",
    "\n",
    "# To Fit the Training Dataset into Support Vector Machine Model\n",
    "support_vector_machine.fit(X_uni_train, Y_uni_train)\n",
    "\n",
    "# To Predict the Output of the Testing Dataset\n",
    "Y_predict_SVM_uni = support_vector_machine.predict(X_uni_test)"
   ]
  },
  {
   "cell_type": "code",
   "execution_count": null,
   "metadata": {},
   "outputs": [],
   "source": [
    "# To Show the Confusion Matrix\n",
    "from sklearn.metrics import confusion_matrix\n",
    "print(\"CONFUSION MATRIX:\")\n",
    "print(confusion_matrix(Y_uni_test, Y_predict_SVM_uni))"
   ]
  },
  {
   "cell_type": "code",
   "execution_count": null,
   "metadata": {},
   "outputs": [],
   "source": [
    "# For the Classification Accuracy\n",
    "from sklearn.metrics import accuracy_score\n",
    "classification_accuracy = accuracy_score(Y_uni_test, Y_predict_SVM_uni)\n",
    "print('Classification Accuracy: %.4f'\n",
    "      % classification_accuracy)\n",
    "print('')"
   ]
  },
  {
   "cell_type": "code",
   "execution_count": null,
   "metadata": {},
   "outputs": [],
   "source": [
    "# For the Classification Report\n",
    "from sklearn.metrics import classification_report\n",
    "print(\"CLASSIFICATION REPORT:\")\n",
    "print(classification_report(Y_uni_test, Y_predict_SVM_uni))"
   ]
  },
  {
   "cell_type": "markdown",
   "metadata": {},
   "source": [
    "### B. Using Recursive Feature Elimination"
   ]
  },
  {
   "cell_type": "markdown",
   "metadata": {},
   "source": [
    "Based from the Recursive Feature Elimination, the four attributes chosen are the following:\n",
    "1. Pregnancies\n",
    "2. Glucose\n",
    "3. BMI, and \n",
    "4. DiabetesPedigreeFunction"
   ]
  },
  {
   "cell_type": "code",
   "execution_count": null,
   "metadata": {},
   "outputs": [],
   "source": [
    "# To Create the Matrix of Independent Variable, X, that contains Pregnancies, Glucose, BMI and DiabetesPedigreeFunction\n",
    "features = ['Pregnancies','Glucose', 'BMI', 'DiabetesPedigreeFunction']\n",
    "X_rfe = dataset[features].values"
   ]
  },
  {
   "cell_type": "code",
   "execution_count": null,
   "metadata": {},
   "outputs": [],
   "source": [
    "# To Create the Matrix of Independent Variable, Y, that contains the Outcomes\n",
    "Y_rfe = dataset.iloc[:,8].values"
   ]
  },
  {
   "cell_type": "code",
   "execution_count": null,
   "metadata": {},
   "outputs": [],
   "source": [
    "# To Import the Support Vector Machine Model\n",
    "from sklearn.svm import SVC\n",
    "\n",
    "# To Instantiate the Model (Using Majority of Default Parameters)\n",
    "support_vector_machine = SVC(kernel = 'linear', random_state = 0)"
   ]
  },
  {
   "cell_type": "code",
   "execution_count": null,
   "metadata": {},
   "outputs": [],
   "source": [
    "# To Apply K-fold Cross Validation for the Support Vector Machine Model Performance\n",
    "from sklearn.model_selection import KFold\n",
    "k_Fold = KFold(n_splits=10, shuffle=False, random_state=None)\n",
    "\n",
    "from sklearn.model_selection import cross_val_score\n",
    "accuracies = cross_val_score(estimator=support_vector_machine, X=X_rfe, y=Y_rfe, cv=k_Fold, scoring='accuracy')\n",
    "accuracies_average = accuracies.mean()\n",
    "accuracies_variance = accuracies.std()\n",
    "print(\"ACCURACIES IN K-FOLDS:\")\n",
    "print(accuracies)\n",
    "print('')\n",
    "print(\"AVERAGE ACCURACY OF K-FOLDS:\")\n",
    "print(accuracies_average)\n",
    "print('')\n",
    "print(\"ACCURACY VARIANCE OF K-FOLDS:\")\n",
    "print(accuracies_variance)\n",
    "print('')"
   ]
  },
  {
   "cell_type": "code",
   "execution_count": null,
   "metadata": {},
   "outputs": [],
   "source": [
    "# To Split the Dataset into Training Dataset and Testing Dataset\n",
    "from sklearn.model_selection import train_test_split\n",
    "X_rfe_train, X_rfe_test, Y_rfe_train, Y_rfe_test = train_test_split(X_rfe, Y_rfe, test_size = 0.20, random_state = 0)\n",
    "\n",
    "# To Fit the Training Dataset into Support Vector Machine Model\n",
    "support_vector_machine.fit(X_rfe_train, Y_rfe_train)\n",
    "\n",
    "# To Predict the Output of the Testing Dataset\n",
    "Y_predict_SVM_rfe = support_vector_machine.predict(X_rfe_test)"
   ]
  },
  {
   "cell_type": "code",
   "execution_count": null,
   "metadata": {},
   "outputs": [],
   "source": [
    "# To Show the Confusion Matrix\n",
    "from sklearn.metrics import confusion_matrix\n",
    "print(\"CONFUSION MATRIX:\")\n",
    "print(confusion_matrix(Y_rfe_test, Y_predict_SVM_rfe))"
   ]
  },
  {
   "cell_type": "code",
   "execution_count": null,
   "metadata": {},
   "outputs": [],
   "source": [
    "# For the Classification Accuracy\n",
    "from sklearn.metrics import accuracy_score\n",
    "classification_accuracy = accuracy_score(Y_rfe_test, Y_predict_SVM_rfe)\n",
    "print('Classification Accuracy: %.4f'\n",
    "      % classification_accuracy)\n",
    "print('')"
   ]
  },
  {
   "cell_type": "code",
   "execution_count": null,
   "metadata": {},
   "outputs": [],
   "source": [
    "# For the Classification Report\n",
    "from sklearn.metrics import classification_report\n",
    "print(\"CLASSIFICATION REPORT:\")\n",
    "print(classification_report(Y_rfe_test, Y_predict_SVM_rfe))"
   ]
  },
  {
   "cell_type": "markdown",
   "metadata": {},
   "source": [
    "### C. Using Principal Component Analysis"
   ]
  },
  {
   "cell_type": "markdown",
   "metadata": {},
   "source": [
    "A property of PCA is that you can choose the number of dimensions or principal component in the transformed result.\n",
    "In this simulation, we will select 4 principal components."
   ]
  },
  {
   "cell_type": "code",
   "execution_count": null,
   "metadata": {},
   "outputs": [],
   "source": [
    "# To Create the Matrix of Independent Variable, X, that contains all the Features\n",
    "X = dataset.iloc[:,0:8].values"
   ]
  },
  {
   "cell_type": "code",
   "execution_count": null,
   "metadata": {},
   "outputs": [],
   "source": [
    "# To Create the Matrix of Independent Variable, Y, that contains the Outcomes\n",
    "Y_pca = dataset.iloc[:,8].values"
   ]
  },
  {
   "cell_type": "code",
   "execution_count": null,
   "metadata": {},
   "outputs": [],
   "source": [
    "# To Perform Feature Selection with PCA\n",
    "from sklearn.decomposition import PCA\n",
    "selection_method_pca = PCA(n_components=4)\n",
    "\n",
    "# To Apply the PCA in the Independent variable, X\n",
    "X_pca = selection_method_pca.fit_transform(X)"
   ]
  },
  {
   "cell_type": "code",
   "execution_count": null,
   "metadata": {},
   "outputs": [],
   "source": [
    "# To Import the Support Vector Machine Model\n",
    "from sklearn.svm import SVC\n",
    "\n",
    "# To Instantiate the Model (Using Majority of Default Parameters)\n",
    "support_vector_machine = SVC(kernel = 'linear', random_state = 0)"
   ]
  },
  {
   "cell_type": "code",
   "execution_count": null,
   "metadata": {},
   "outputs": [],
   "source": [
    "# To Apply K-fold Cross Validation for the Support Vector Machine Model Performance\n",
    "from sklearn.model_selection import KFold\n",
    "k_Fold = KFold(n_splits=10, shuffle=False, random_state=None)\n",
    "\n",
    "from sklearn.model_selection import cross_val_score\n",
    "accuracies = cross_val_score(estimator=support_vector_machine, X=X_pca, y=Y_pca, cv=k_Fold, scoring='accuracy')\n",
    "accuracies_average = accuracies.mean()\n",
    "accuracies_variance = accuracies.std()\n",
    "print(\"ACCURACIES IN K-FOLDS:\")\n",
    "print(accuracies)\n",
    "print('')\n",
    "print(\"AVERAGE ACCURACY OF K-FOLDS:\")\n",
    "print(accuracies_average)\n",
    "print('')\n",
    "print(\"ACCURACY VARIANCE OF K-FOLDS:\")\n",
    "print(accuracies_variance)\n",
    "print('')"
   ]
  },
  {
   "cell_type": "code",
   "execution_count": null,
   "metadata": {},
   "outputs": [],
   "source": [
    "# To Split the Dataset into Training Dataset and Testing Dataset\n",
    "from sklearn.model_selection import train_test_split\n",
    "X_pca_train, X_pca_test, Y_pca_train, Y_pca_test = train_test_split(X_pca, Y_pca, test_size = 0.20, random_state = 0)\n",
    "\n",
    "# To Fit the Training Dataset into Support Vector Machine Model\n",
    "support_vector_machine.fit(X_pca_train, Y_pca_train)\n",
    "\n",
    "# To Predict the Output of the Testing Dataset\n",
    "Y_predict_SVM_pca = support_vector_machine.predict(X_pca_test)"
   ]
  },
  {
   "cell_type": "code",
   "execution_count": null,
   "metadata": {},
   "outputs": [],
   "source": [
    "# To Show the Confusion Matrix\n",
    "from sklearn.metrics import confusion_matrix\n",
    "print(\"CONFUSION MATRIX:\")\n",
    "print(confusion_matrix(Y_pca_test, Y_predict_SVM_pca))"
   ]
  },
  {
   "cell_type": "code",
   "execution_count": null,
   "metadata": {},
   "outputs": [],
   "source": [
    "# For the Classification Accuracy\n",
    "from sklearn.metrics import accuracy_score\n",
    "classification_accuracy = accuracy_score(Y_pca_test, Y_predict_SVM_pca)\n",
    "print('Classification Accuracy: %.4f'\n",
    "      % classification_accuracy)\n",
    "print('')"
   ]
  },
  {
   "cell_type": "code",
   "execution_count": null,
   "metadata": {},
   "outputs": [],
   "source": [
    "# For the Classification Report\n",
    "from sklearn.metrics import classification_report\n",
    "print(\"CLASSIFICATION REPORT:\")\n",
    "print(classification_report(Y_pca_test, Y_predict_SVM_pca))"
   ]
  },
  {
   "cell_type": "markdown",
   "metadata": {},
   "source": [
    "### D. Using Feature Importance"
   ]
  },
  {
   "cell_type": "markdown",
   "metadata": {},
   "source": [
    "Based from the Feature Importance Selection, the four attributes chosen are the following:\n",
    "1. Glucose\n",
    "2. BMI\n",
    "3. DiabetesPedigreeFunction\n",
    "4. Age"
   ]
  },
  {
   "cell_type": "code",
   "execution_count": null,
   "metadata": {},
   "outputs": [],
   "source": [
    "# To Create the Matrix of Independent Variable, X, that contains Glucose, BMI, DiabetesPedigreeFunction, and Age\n",
    "features = ['Glucose', 'BMI', 'DiabetesPedigreeFunction','Age']\n",
    "X_fi = dataset[features].values"
   ]
  },
  {
   "cell_type": "code",
   "execution_count": null,
   "metadata": {},
   "outputs": [],
   "source": [
    "# To Create the Matrix of Independent Variable, Y, that contains the Outcomes\n",
    "Y_fi = dataset.iloc[:,8].values"
   ]
  },
  {
   "cell_type": "code",
   "execution_count": null,
   "metadata": {},
   "outputs": [],
   "source": [
    "# To Import the Support Vector Machine Model\n",
    "from sklearn.svm import SVC\n",
    "\n",
    "# To Instantiate the Model (Using Majority of Default Parameters)\n",
    "support_vector_machine = SVC(kernel = 'linear', random_state = 0)"
   ]
  },
  {
   "cell_type": "code",
   "execution_count": null,
   "metadata": {},
   "outputs": [],
   "source": [
    "# To Apply K-fold Cross Validation for the Support Vector Machine Model Performance\n",
    "from sklearn.model_selection import KFold\n",
    "k_Fold = KFold(n_splits=10, shuffle=False, random_state=None)\n",
    "\n",
    "from sklearn.model_selection import cross_val_score\n",
    "accuracies = cross_val_score(estimator=support_vector_machine, X=X_fi, y=Y_fi, cv=k_Fold, scoring='accuracy')\n",
    "accuracies_average = accuracies.mean()\n",
    "accuracies_variance = accuracies.std()\n",
    "print(\"ACCURACIES IN K-FOLDS:\")\n",
    "print(accuracies)\n",
    "print('')\n",
    "print(\"AVERAGE ACCURACY OF K-FOLDS:\")\n",
    "print(accuracies_average)\n",
    "print('')\n",
    "print(\"ACCURACY VARIANCE OF K-FOLDS:\")\n",
    "print(accuracies_variance)\n",
    "print('')"
   ]
  },
  {
   "cell_type": "code",
   "execution_count": null,
   "metadata": {},
   "outputs": [],
   "source": [
    "# To Split the Dataset into Training Dataset and Testing Dataset\n",
    "from sklearn.model_selection import train_test_split\n",
    "X_fi_train, X_fi_test, Y_fi_train, Y_fi_test = train_test_split(X_fi, Y_fi, test_size = 0.20, random_state = 0)\n",
    "\n",
    "# To Fit the Training Dataset into Support Vector Machine Model\n",
    "support_vector_machine.fit(X_fi_train, Y_fi_train)\n",
    "\n",
    "# To Predict the Output of the Testing Dataset\n",
    "Y_predict_SVM_fi = support_vector_machine.predict(X_fi_test)"
   ]
  },
  {
   "cell_type": "code",
   "execution_count": null,
   "metadata": {},
   "outputs": [],
   "source": [
    "# To Show the Confusion Matrix\n",
    "from sklearn.metrics import confusion_matrix\n",
    "print(\"CONFUSION MATRIX:\")\n",
    "print(confusion_matrix(Y_fi_test, Y_predict_SVM_fi))"
   ]
  },
  {
   "cell_type": "code",
   "execution_count": null,
   "metadata": {},
   "outputs": [],
   "source": [
    "# For the Classification Accuracy\n",
    "from sklearn.metrics import accuracy_score\n",
    "classification_accuracy = accuracy_score(Y_fi_test, Y_predict_SVM_fi)\n",
    "print('Classification Accuracy: %.4f'\n",
    "      % classification_accuracy)\n",
    "print('')"
   ]
  },
  {
   "cell_type": "code",
   "execution_count": null,
   "metadata": {},
   "outputs": [],
   "source": [
    "# For the Classification Report\n",
    "from sklearn.metrics import classification_report\n",
    "print(\"CLASSIFICATION REPORT:\")\n",
    "print(classification_report(Y_fi_test, Y_predict_SVM_fi))"
   ]
  },
  {
   "cell_type": "markdown",
   "metadata": {},
   "source": [
    "###### earoxas2019 & rgdeluna2018"
   ]
  },
  {
   "cell_type": "code",
   "execution_count": null,
   "metadata": {},
   "outputs": [],
   "source": []
  }
 ],
 "metadata": {
  "kernelspec": {
   "display_name": "Python 3",
   "language": "python",
   "name": "python3"
  },
  "language_info": {
   "codemirror_mode": {
    "name": "ipython",
    "version": 3
   },
   "file_extension": ".py",
   "mimetype": "text/x-python",
   "name": "python",
   "nbconvert_exporter": "python",
   "pygments_lexer": "ipython3",
   "version": "3.6.5"
  }
 },
 "nbformat": 4,
 "nbformat_minor": 2
}
